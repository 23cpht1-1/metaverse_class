{
 "cells": [
  {
   "cell_type": "code",
   "execution_count": 2,
   "id": "6e5aa126-cca8-4825-ac89-be82034bcb06",
   "metadata": {},
   "outputs": [
    {
     "name": "stdout",
     "output_type": "stream",
     "text": [
      "KOREA POLYTECHNICS\n",
      "\n",
      "한국폴리텍대학\n"
     ]
    }
   ],
   "source": [
    "#따라하기1\n",
    "\n",
    "print(\"KOREA POLYTECHNICS\")\n",
    "print()\n",
    "print(\"한국폴리텍대학\")"
   ]
  },
  {
   "cell_type": "code",
   "execution_count": 4,
   "id": "204b4293-0de9-47ff-94b2-84ffe64abfc1",
   "metadata": {},
   "outputs": [
    {
     "ename": "SyntaxError",
     "evalue": "invalid syntax (346280848.py, line 3)",
     "output_type": "error",
     "traceback": [
      "\u001b[1;36m  File \u001b[1;32m\"C:\\Users\\user05\\AppData\\Local\\Temp\\ipykernel_6940\\346280848.py\"\u001b[1;36m, line \u001b[1;32m3\u001b[0m\n\u001b[1;33m    print(\"KOREA POLYTECHNICS은 \"한국폴리텍대학\"입니다.\")\u001b[0m\n\u001b[1;37m                                ^\u001b[0m\n\u001b[1;31mSyntaxError\u001b[0m\u001b[1;31m:\u001b[0m invalid syntax\n"
     ]
    }
   ],
   "source": [
    "#따라하기2\n",
    "\n",
    "print(\"KOREA POLYTECHNICS은 \"한국폴리텍대학\"입니다.\")\n",
    "print('KOREA POLYTECHNICS은 '한국폴리텍대학'입니다.')"
   ]
  },
  {
   "cell_type": "code",
   "execution_count": 5,
   "id": "1cafcac8-790c-40a9-9aee-4157957e1577",
   "metadata": {},
   "outputs": [
    {
     "name": "stdout",
     "output_type": "stream",
     "text": [
      "KOREA POLYTECHNICS은 '한국폴리텍대학'입니다.\n",
      "KOREA POLYTECHNICS은 \"한국폴리텍대학\"입니다.\n"
     ]
    }
   ],
   "source": [
    "#따라하기3\n",
    "\n",
    "print(\"KOREA POLYTECHNICS은 '한국폴리텍대학'입니다.\")\n",
    "print('KOREA POLYTECHNICS은 \"한국폴리텍대학\"입니다.')"
   ]
  },
  {
   "cell_type": "code",
   "execution_count": 6,
   "id": "b40119e3-a1ae-48b2-9875-d826050ce9a0",
   "metadata": {},
   "outputs": [
    {
     "name": "stdout",
     "output_type": "stream",
     "text": [
      "14\n",
      "0\n",
      "49\n",
      "1.0\n"
     ]
    }
   ],
   "source": [
    "#따라하기4\n",
    "\n",
    "print(7 + 7)\n",
    "print(7 - 7)\n",
    "print(7 * 7)\n",
    "print(7 / 7)"
   ]
  },
  {
   "cell_type": "code",
   "execution_count": 7,
   "id": "423ec5d8-27a4-4787-a908-8a3fbb780c18",
   "metadata": {},
   "outputs": [
    {
     "name": "stdin",
     "output_type": "stream",
     "text": [
      "첫 번째 숫자를 입력하세요. 1\n",
      "두 번째 숫자를 입력하세요. 2\n"
     ]
    },
    {
     "name": "stdout",
     "output_type": "stream",
     "text": [
      "3 -1 2 0.5\n"
     ]
    }
   ],
   "source": [
    "#따라하기5\n",
    "\n",
    "a = input(\"첫 번째 숫자를 입력하세요.\")\n",
    "b = input(\"두 번째 숫자를 입력하세요.\")\n",
    "a = int(a)\n",
    "b = int(b)\n",
    "\n",
    "print(a + b, a - b, a * b, a / b)"
   ]
  },
  {
   "cell_type": "code",
   "execution_count": 8,
   "id": "33280eb8-ccb5-4a9a-87d2-756f25a0a415",
   "metadata": {},
   "outputs": [
    {
     "name": "stdin",
     "output_type": "stream",
     "text": [
      "어느 캠퍼스에 다니시나요?  춘천\n"
     ]
    },
    {
     "name": "stdout",
     "output_type": "stream",
     "text": [
      "저는 한국폴리텍대학 춘천 에 재학중입니다.\n"
     ]
    }
   ],
   "source": [
    "campus = input(\"어느 캠퍼스에 다니시나요? \")\n",
    "print(\"저는 한국폴리텍대학\", campus, \"에 재학중입니다.\")"
   ]
  },
  {
   "cell_type": "code",
   "execution_count": 9,
   "id": "79b4a666-5800-400e-a1ea-89b4d52ccb96",
   "metadata": {},
   "outputs": [
    {
     "name": "stdout",
     "output_type": "stream",
     "text": [
      "파이썬은 처음 배웁니다.\n",
      "1 2 3 4 5\n",
      "100\n"
     ]
    }
   ],
   "source": [
    "#스스로하기1\n",
    "\n",
    "print(\"파이썬은 처음 배웁니다.\")\n",
    "print(\"1 2 3 4 5\")\n",
    "print(100)"
   ]
  },
  {
   "cell_type": "code",
   "execution_count": 10,
   "id": "9b9d0cd6-07e6-40cd-b0b6-f4d9402a7b3e",
   "metadata": {},
   "outputs": [
    {
     "name": "stdout",
     "output_type": "stream",
     "text": [
      "KOREA POLYTECHNICS 한국폴리텍대학 100\n"
     ]
    }
   ],
   "source": [
    "#스스로하기2\n",
    "#KOREA POLYTECHNICS 한국폴리텍대학 100\n",
    "\n",
    "print(\"KOREA POLYTECHNICS\", '한국폴리텍대학', 100)"
   ]
  }
 ],
 "metadata": {
  "kernelspec": {
   "display_name": "Python 3 (ipykernel)",
   "language": "python",
   "name": "python3"
  },
  "language_info": {
   "codemirror_mode": {
    "name": "ipython",
    "version": 3
   },
   "file_extension": ".py",
   "mimetype": "text/x-python",
   "name": "python",
   "nbconvert_exporter": "python",
   "pygments_lexer": "ipython3",
   "version": "3.9.13"
  }
 },
 "nbformat": 4,
 "nbformat_minor": 5
}
